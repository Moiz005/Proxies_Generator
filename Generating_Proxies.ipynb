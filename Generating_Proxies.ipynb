{
 "cells": [
  {
   "cell_type": "markdown",
   "id": "9766f656",
   "metadata": {},
   "source": [
    "# Getting the Proxies"
   ]
  },
  {
   "cell_type": "code",
   "execution_count": null,
   "id": "ecf51953",
   "metadata": {},
   "outputs": [],
   "source": [
    "from selenium import webdriver\n",
    "from selenium.webdriver.common.by import By\n",
    "from selenium.webdriver.support.ui import WebDriverWait\n",
    "from selenium.webdriver.support import expected_conditions as EC\n",
    "from selenium.webdriver.chrome.options import Options  # Correct import\n",
    "import undetected_chromedriver as uc\n",
    "import time\n",
    "import csv\n",
    "import random\n",
    "\n",
    "chrome_options = webdriver.ChromeOptions()\n",
    "chrome_options.add_experimental_option(\"detach\", True)\n",
    "driver = webdriver.Chrome(options=chrome_options)\n",
    "\n",
    "proxies = []\n",
    "for i in range(13):\n",
    "    try:\n",
    "        driver.get(f\"https://www.freeproxy.world/?type=http&anonymity=4&country=&speed=&port=&page={i+1}\")\n",
    "        time.sleep(2)\n",
    "        table_rows = driver.find_elements(By.CSS_SELECTOR, \"table.layui-table tbody > tr\")\n",
    "        table_rows = table_rows[1:]\n",
    "        for table_row in table_rows:\n",
    "            try:\n",
    "                time.sleep(2)\n",
    "                table_datas = table_row.find_elements(By.CSS_SELECTOR, \"td\")\n",
    "#                 print(f\"Length of table data {len(table_datas)}\")\n",
    "                ip = table_datas[0].text\n",
    "                port = table_datas[1].text\n",
    "                proxies.append(f\"https://{ip}:{port}\")\n",
    "            except Exception as e:\n",
    "                print(e)\n",
    "        print(i+1)\n",
    "    except Exception as e:\n",
    "        print(e)\n",
    "        \n",
    "with open(\"proxies.csv\", \"w\") as file:\n",
    "    writer = csv.writer(file)\n",
    "    writer.writerow([\"Proxies\"])  # Header\n",
    "    for item in proxies:\n",
    "        writer.writerow([item])"
   ]
  },
  {
   "cell_type": "markdown",
   "id": "42afedcb",
   "metadata": {},
   "source": [
    "# Extracting the working proxies"
   ]
  },
  {
   "cell_type": "code",
   "execution_count": null,
   "id": "af1d9ebb",
   "metadata": {},
   "outputs": [],
   "source": [
    "import requests\n",
    "\n",
    "# Function to check if a proxy is working\n",
    "def check_proxy(proxy):\n",
    "    try:\n",
    "        # Define the proxy dictionary for requests\n",
    "        proxy_dict = {\n",
    "            \"http\": proxy,\n",
    "            \"https\": proxy\n",
    "        }\n",
    "        \n",
    "        # Send a test request to httpbin.org/ip\n",
    "        response = requests.get(\"http://httpbin.org/ip\", proxies=proxy_dict, timeout=5)\n",
    "        \n",
    "        # Check if the request was successful\n",
    "        if response.status_code == 200:\n",
    "            print(f\"Proxy {proxy} is working.\")\n",
    "            return True\n",
    "        else:\n",
    "            print(f\"Proxy {proxy} returned status code {response.status_code}.\")\n",
    "            return False\n",
    "    except Exception as e:\n",
    "        # Handle timeouts, connection errors, etc.\n",
    "        print(f\"Proxy {proxy} failed: {e}\")\n",
    "        return False\n",
    "\n",
    "# List to store working proxies\n",
    "working_proxies = []\n",
    "\n",
    "# Check each proxy\n",
    "for proxy in proxies:\n",
    "    if check_proxy(proxy):\n",
    "        working_proxies.append(proxy)\n",
    "\n",
    "# Save working proxies to a file\n",
    "with open(\"working_proxies.txt\", \"w\", encoding=\"utf-8\") as f:\n",
    "    for proxy in working_proxies:\n",
    "        f.write(proxy + \"\\n\")\n",
    "\n",
    "print(f\"Found {len(working_proxies)} working proxies.\")"
   ]
  }
 ],
 "metadata": {
  "kernelspec": {
   "display_name": "Python 3 (ipykernel)",
   "language": "python",
   "name": "python3"
  },
  "language_info": {
   "codemirror_mode": {
    "name": "ipython",
    "version": 3
   },
   "file_extension": ".py",
   "mimetype": "text/x-python",
   "name": "python",
   "nbconvert_exporter": "python",
   "pygments_lexer": "ipython3",
   "version": "3.11.5"
  },
  "varInspector": {
   "cols": {
    "lenName": 16,
    "lenType": 16,
    "lenVar": 40
   },
   "kernels_config": {
    "python": {
     "delete_cmd_postfix": "",
     "delete_cmd_prefix": "del ",
     "library": "var_list.py",
     "varRefreshCmd": "print(var_dic_list())"
    },
    "r": {
     "delete_cmd_postfix": ") ",
     "delete_cmd_prefix": "rm(",
     "library": "var_list.r",
     "varRefreshCmd": "cat(var_dic_list()) "
    }
   },
   "types_to_exclude": [
    "module",
    "function",
    "builtin_function_or_method",
    "instance",
    "_Feature"
   ],
   "window_display": false
  }
 },
 "nbformat": 4,
 "nbformat_minor": 5
}
